{
 "cells": [
  {
   "cell_type": "code",
   "execution_count": 24,
   "metadata": {
    "collapsed": true
   },
   "outputs": [],
   "source": [
    "from sklearn.preprocessing import OneHotEncoder\n",
    "import pandas as pd\n",
    "import numpy as np"
   ]
  },
  {
   "cell_type": "code",
   "execution_count": 26,
   "metadata": {
    "collapsed": false
   },
   "outputs": [
    {
     "data": {
      "text/plain": [
       "array([['f', 'f', 'f', ..., 't', 'n', 'won'],\n",
       "       ['f', 'f', 'f', ..., 't', 'n', 'won'],\n",
       "       ['f', 'f', 'f', ..., 't', 'n', 'won'],\n",
       "       ..., \n",
       "       ['t', 'f', 'f', ..., 'f', 'n', 'nowin'],\n",
       "       ['t', 'f', 't', ..., 'f', 'n', 'nowin'],\n",
       "       ['t', 'f', 't', ..., 'f', 'n', 'nowin']], dtype=object)"
      ]
     },
     "execution_count": 26,
     "metadata": {},
     "output_type": "execute_result"
    }
   ],
   "source": [
    "fp = \"./data/kr-vs-kp.data.txt\"\n",
    "examples = pd.read_csv(fp)\n",
    "ex_ = examples.values\n",
    "ex_"
   ]
  },
  {
   "cell_type": "code",
   "execution_count": 27,
   "metadata": {
    "collapsed": false
   },
   "outputs": [
    {
     "data": {
      "text/plain": [
       "{0: {'f': 0, 't': 1},\n",
       " 1: {'f': 0, 't': 1},\n",
       " 2: {'f': 0, 't': 1},\n",
       " 3: {'f': 0, 't': 1},\n",
       " 4: {'f': 0, 't': 1},\n",
       " 5: {'f': 0, 't': 1},\n",
       " 6: {'f': 0, 't': 1},\n",
       " 7: {'f': 0, 't': 1},\n",
       " 8: {'f': 0, 't': 1},\n",
       " 9: {'f': 0, 't': 1},\n",
       " 10: {'f': 0, 't': 1},\n",
       " 11: {'f': 0, 't': 1},\n",
       " 12: {'g': 1, 'l': 0},\n",
       " 13: {'f': 0, 't': 1},\n",
       " 14: {'b': 2, 'n': 0, 'w': 1},\n",
       " 15: {'f': 0, 't': 1},\n",
       " 16: {'f': 0, 't': 1},\n",
       " 17: {'f': 0, 't': 1},\n",
       " 18: {'f': 0, 't': 1},\n",
       " 19: {'f': 0, 't': 1},\n",
       " 20: {'f': 0, 't': 1},\n",
       " 21: {'f': 0, 't': 1},\n",
       " 22: {'f': 0, 't': 1},\n",
       " 23: {'f': 0, 't': 1},\n",
       " 24: {'f': 0, 't': 1},\n",
       " 25: {'f': 0, 't': 1},\n",
       " 26: {'f': 0, 't': 1},\n",
       " 27: {'f': 0, 't': 1},\n",
       " 28: {'f': 0, 't': 1},\n",
       " 29: {'f': 0, 't': 1},\n",
       " 30: {'f': 0, 't': 1},\n",
       " 31: {'f': 0, 't': 1},\n",
       " 32: {'f': 0, 't': 1},\n",
       " 33: {'f': 0, 't': 1},\n",
       " 34: {'f': 0, 't': 1},\n",
       " 35: {'n': 0, 't': 1},\n",
       " 36: {'nowin': 1, 'won': 0}}"
      ]
     },
     "execution_count": 27,
     "metadata": {},
     "output_type": "execute_result"
    }
   ],
   "source": [
    "# convert to ints\n",
    "dict_ = dict()\n",
    "for j in range(ex_.shape[0]):\n",
    "    for i in range(ex_.shape[1]):\n",
    "        dict_.setdefault(i, dict())\n",
    "        dict_[i].setdefault(str(ex_[j, i]), j)\n",
    "\n",
    "for k in dict_.keys():\n",
    "    v = 0\n",
    "    for (kk, vv) in dict_[k].items():\n",
    "        dict_[k][kk] = v\n",
    "        v += 1\n",
    "        \n",
    "dict_"
   ]
  },
  {
   "cell_type": "code",
   "execution_count": 51,
   "metadata": {
    "collapsed": false
   },
   "outputs": [
    {
     "data": {
      "text/plain": [
       "(37,)"
      ]
     },
     "execution_count": 51,
     "metadata": {},
     "output_type": "execute_result"
    }
   ],
   "source": [
    "exs = []\n",
    "for i in range(ex_.shape[0]):\n",
    "    exs_ = []\n",
    "    for j in range(ex_.shape[1]):\n",
    "        try:\n",
    "            exs_.append(dict_[j][str(ex_[i, j])])\n",
    "        except:\n",
    "            print(j, dict_[j])\n",
    "            print(i, ex_[i, j])\n",
    "            break\n",
    "        \n",
    "    exs.append(exs_)\n",
    "    \n",
    "exs = np.asarray(exs)\n",
    "exs.max(axis=0).shape"
   ]
  },
  {
   "cell_type": "code",
   "execution_count": 82,
   "metadata": {
    "collapsed": false
   },
   "outputs": [
    {
     "name": "stdout",
     "output_type": "stream",
     "text": [
      "(3195, 14) (3195, 20) (3195, 1)\n"
     ]
    }
   ],
   "source": [
    "exs14 = exs[:, 14]\n",
    "exs0_13 = exs[:, 0:14]\n",
    "exs15_end1 = exs[:, 15:-2]\n",
    "exs_labels = np.abs(exs[:, -1] - 1)  # win nowin stuff\n",
    "exs_labels = exs_labels.reshape(exs_labels.shape[0], 1)\n",
    "print(exs0_13.shape, exs15_end1.shape, exs_labels.shape)"
   ]
  },
  {
   "cell_type": "code",
   "execution_count": 83,
   "metadata": {
    "collapsed": false
   },
   "outputs": [
    {
     "data": {
      "text/plain": [
       "(3195, 3)"
      ]
     },
     "execution_count": 83,
     "metadata": {},
     "output_type": "execute_result"
    }
   ],
   "source": [
    "exs__ = []\n",
    "for d in exs14:\n",
    "    exs___ = []\n",
    "    for k, v in dict_[14].items():\n",
    "        exs___.append(1 if d == v else 0)\n",
    "        \n",
    "    exs__.append(exs___)\n",
    "    \n",
    "exs14_ = np.asarray(exs__)\n",
    "exs14_.shape"
   ]
  },
  {
   "cell_type": "code",
   "execution_count": 84,
   "metadata": {
    "collapsed": false
   },
   "outputs": [
    {
     "data": {
      "text/plain": [
       "(3195, 38)"
      ]
     },
     "execution_count": 84,
     "metadata": {},
     "output_type": "execute_result"
    }
   ],
   "source": [
    "exs_final = np.concatenate((exs_labels, exs0_13, exs14_, exs15_end1), axis=1)\n",
    "exs_final.shape"
   ]
  },
  {
   "cell_type": "code",
   "execution_count": 85,
   "metadata": {
    "collapsed": false
   },
   "outputs": [],
   "source": [
    "exs_df = pd.DataFrame(exs_final)"
   ]
  },
  {
   "cell_type": "code",
   "execution_count": 86,
   "metadata": {
    "collapsed": true
   },
   "outputs": [],
   "source": [
    "exs_df.to_csv(\"./data/kr-vs-kp.data.binarized\", header=False, index=False)"
   ]
  },
  {
   "cell_type": "code",
   "execution_count": 45,
   "metadata": {
    "collapsed": false
   },
   "outputs": [
    {
     "name": "stdout",
     "output_type": "stream",
     "text": [
      "[1 1 1 ..., 1 3 1]\n",
      "[   0    1    2 ..., 4085 4088 4089]\n"
     ]
    }
   ],
   "source": [
    "enc = OneHotEncoder()\n",
    "enc.fit(exs[:, 14])\n",
    "print(enc.n_values_)\n",
    "print(enc.feature_indices_)"
   ]
  },
  {
   "cell_type": "code",
   "execution_count": 56,
   "metadata": {
    "collapsed": false
   },
   "outputs": [
    {
     "data": {
      "text/plain": [
       "(1, 3195)"
      ]
     },
     "execution_count": 56,
     "metadata": {},
     "output_type": "execute_result"
    }
   ],
   "source": [
    "enc.transform(exs[:,14]).toarray().shape"
   ]
  },
  {
   "cell_type": "code",
   "execution_count": null,
   "metadata": {
    "collapsed": true
   },
   "outputs": [],
   "source": []
  }
 ],
 "metadata": {
  "kernelspec": {
   "display_name": "Python 3",
   "language": "python",
   "name": "python3"
  },
  "language_info": {
   "codemirror_mode": {
    "name": "ipython",
    "version": 3
   },
   "file_extension": ".py",
   "mimetype": "text/x-python",
   "name": "python",
   "nbconvert_exporter": "python",
   "pygments_lexer": "ipython3",
   "version": "3.4.3"
  }
 },
 "nbformat": 4,
 "nbformat_minor": 0
}
